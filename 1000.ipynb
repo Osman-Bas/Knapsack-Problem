{
 "cells": [
  {
   "cell_type": "code",
   "execution_count": 1,
   "id": "279f6018-d1d5-41be-8585-ce6d24df7f4b",
   "metadata": {},
   "outputs": [
    {
     "name": "stdout",
     "output_type": "stream",
     "text": [
      "✅ Optimal Değer: 109899\n",
      "📋 Seçilen Öğeler (0-index): [59, 76, 115, 124, 336, 394, 485, 504, 519, 525, 553, 627, 642, 689, 703, 801, 889, 929]\n",
      "💰 Seçilen Değerler: [6646, 38, 12721, 1007, 15347, 5739, 11450, 9142, 13710, 6064, 14781, 303, 3439, 1531, 5247, 2295, 438, 1]\n",
      "⚖️ Toplam Ağırlık: 99999\n"
     ]
    }
   ],
   "source": [
    "def read_knapsack_data(filepath):\n",
    "    with open(filepath, 'r') as file:\n",
    "        lines = file.readlines()\n",
    "\n",
    "    # İlk satır: öğe sayısı ve kapasite\n",
    "    n, capacity = map(int, lines[0].split())\n",
    "\n",
    "    # Sonraki satırlar: değer ve ağırlıklar\n",
    "    values, weights = [], []\n",
    "    for line in lines[1:]:\n",
    "        v, w = map(int, line.strip().split())\n",
    "        values.append(v)\n",
    "        weights.append(w)\n",
    "\n",
    "    return n, capacity, values, weights\n",
    "\n",
    "# 📥 Veri dosyasını oku\n",
    "filepath = \"ks_1000_0.txt\"\n",
    "n, capacity, values, weights = read_knapsack_data(filepath)\n",
    "\n",
    "# 🧮 Knapsack çözümü (Dynamic Programming)\n",
    "dp = [0] * (capacity + 1)\n",
    "item_taken = [[False] * (capacity + 1) for _ in range(n)]\n",
    "\n",
    "for i in range(n):\n",
    "    for w in range(capacity, weights[i] - 1, -1):\n",
    "        if dp[w - weights[i]] + values[i] > dp[w]:\n",
    "            dp[w] = dp[w - weights[i]] + values[i]\n",
    "            item_taken[i][w] = True\n",
    "\n",
    "# 🔍 Geriye izleme: Hangi item'lar alındı?\n",
    "w = capacity\n",
    "selected_items = []\n",
    "for i in range(n - 1, -1, -1):\n",
    "    if item_taken[i][w]:\n",
    "        selected_items.append(i)\n",
    "        w -= weights[i]\n",
    "\n",
    "selected_items.reverse()\n",
    "\n",
    "# ✅ Sonuçlar\n",
    "print(f\"✅ Optimal Değer: {dp[capacity]}\")\n",
    "print(f\"📋 Seçilen Öğeler (0-index): {selected_items}\")\n",
    "print(f\"💰 Seçilen Değerler: {[values[i] for i in selected_items]}\")\n",
    "print(f\"⚖️ Toplam Ağırlık: {sum(weights[i] for i in selected_items)}\")\n"
   ]
  },
  {
   "cell_type": "code",
   "execution_count": 2,
   "id": "fc9e5925-73e2-4e56-a179-e3c24d7509c5",
   "metadata": {},
   "outputs": [],
   "source": [
    "import openpyxl\n",
    "from openpyxl import Workbook\n",
    "from openpyxl.utils import get_column_letter\n",
    "import os\n",
    "\n",
    "def save_to_excel(filename, size, total_value, selected_items, n_items):\n",
    "    # 0/1 dizisini oluştur\n",
    "    binary_solution = ['1' if i in selected_items else '0' for i in range(n_items)]\n",
    "    binary_string = \",\".join(binary_solution)\n",
    "    selected_string = \",\".join(str(i) for i in selected_items)\n",
    "\n",
    "    # Dosya varsa aç, yoksa oluştur\n",
    "    if os.path.exists(filename):\n",
    "        wb = openpyxl.load_workbook(filename)\n",
    "        ws = wb.active\n",
    "    else:\n",
    "        wb = Workbook()\n",
    "        ws = wb.active\n",
    "        # Başlık satırını yaz\n",
    "        ws.append([\"Dosya Boyutu\", \"Optimal Value Değeri\", \"Optimal çözüm\", \"Optimal çözüme dahil edilen itemler\"])\n",
    "\n",
    "    # Veri satırını ekle\n",
    "    ws.append([size, total_value, binary_string, selected_string])\n",
    "    \n",
    "    # Sütun genişliklerini otomatik ayarla\n",
    "    for col in ws.columns:\n",
    "        max_len = max(len(str(cell.value)) for cell in col)\n",
    "        ws.column_dimensions[get_column_letter(col[0].column)].width = max_len + 2\n",
    "\n",
    "    wb.save(filename)\n",
    "    print(f\"✅ Excel dosyasına eklendi: {filename}\")\n"
   ]
  },
  {
   "cell_type": "code",
   "execution_count": 5,
   "id": "95347496-5a8b-4ede-98f3-e9ba94d33484",
   "metadata": {},
   "outputs": [
    {
     "name": "stdout",
     "output_type": "stream",
     "text": [
      "✅ Excel dosyasına eklendi: 1000.xlsx\n"
     ]
    }
   ],
   "source": [
    "save_to_excel(\"1000.xlsx\", 1000, 109899, selected_items, n)"
   ]
  },
  {
   "cell_type": "code",
   "execution_count": null,
   "id": "96411294-a6db-4429-99a2-d2d5ff686997",
   "metadata": {},
   "outputs": [],
   "source": []
  }
 ],
 "metadata": {
  "kernelspec": {
   "display_name": "Python 3 (ipykernel)",
   "language": "python",
   "name": "python3"
  },
  "language_info": {
   "codemirror_mode": {
    "name": "ipython",
    "version": 3
   },
   "file_extension": ".py",
   "mimetype": "text/x-python",
   "name": "python",
   "nbconvert_exporter": "python",
   "pygments_lexer": "ipython3",
   "version": "3.8.18"
  }
 },
 "nbformat": 4,
 "nbformat_minor": 5
}
