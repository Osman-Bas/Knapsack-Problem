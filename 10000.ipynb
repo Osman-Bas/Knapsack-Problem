{
 "cells": [
  {
   "cell_type": "code",
   "execution_count": null,
   "id": "94a55497-b45c-4d0c-b38a-153ba7800e93",
   "metadata": {},
   "outputs": [],
   "source": [
    "def read_knapsack_data(filepath):\n",
    "    with open(filepath, 'r') as file:\n",
    "        lines = file.readlines()\n",
    "\n",
    "    # İlk satır: öğe sayısı ve kapasite\n",
    "    n, capacity = map(int, lines[0].split())\n",
    "\n",
    "    # Sonraki satırlar: değer ve ağırlıklar\n",
    "    values, weights = [], []\n",
    "    for line in lines[1:]:\n",
    "        v, w = map(int, line.strip().split())\n",
    "        values.append(v)\n",
    "        weights.append(w)\n",
    "\n",
    "    return n, capacity, values, weights\n",
    "\n",
    "# 📥 Veri dosyasını oku\n",
    "filepath = \"ks_10000_0.txt\"\n",
    "n, capacity, values, weights = read_knapsack_data(filepath)\n",
    "\n",
    "# 🧮 Knapsack çözümü (Dynamic Programming)\n",
    "dp = [0] * (capacity + 1)\n",
    "item_taken = [[False] * (capacity + 1) for _ in range(n)]\n",
    "\n",
    "for i in range(n):\n",
    "    for w in range(capacity, weights[i] - 1, -1):\n",
    "        if dp[w - weights[i]] + values[i] > dp[w]:\n",
    "            dp[w] = dp[w - weights[i]] + values[i]\n",
    "            item_taken[i][w] = True\n",
    "\n",
    "# 🔍 Geriye izleme: Hangi item'lar alındı?\n",
    "w = capacity\n",
    "selected_items = []\n",
    "for i in range(n - 1, -1, -1):\n",
    "    if item_taken[i][w]:\n",
    "        selected_items.append(i)\n",
    "        w -= weights[i]\n",
    "\n",
    "selected_items.reverse()\n",
    "\n",
    "# ✅ Sonuçlar\n",
    "print(f\"✅ Optimal Değer: {dp[capacity]}\")\n",
    "print(f\"📋 Seçilen Öğeler (0-index): {selected_items}\")\n",
    "print(f\"💰 Seçilen Değerler: {[values[i] for i in selected_items]}\")\n",
    "print(f\"⚖️ Toplam Ağırlık: {sum(weights[i] for i in selected_items)}\")\n"
   ]
  },
  {
   "cell_type": "code",
   "execution_count": null,
   "id": "53a60533-4e64-4c30-8d9a-90f0de7f5416",
   "metadata": {},
   "outputs": [],
   "source": []
  }
 ],
 "metadata": {
  "kernelspec": {
   "display_name": "Python 3 (ipykernel)",
   "language": "python",
   "name": "python3"
  },
  "language_info": {
   "codemirror_mode": {
    "name": "ipython",
    "version": 3
   },
   "file_extension": ".py",
   "mimetype": "text/x-python",
   "name": "python",
   "nbconvert_exporter": "python",
   "pygments_lexer": "ipython3",
   "version": "3.8.18"
  }
 },
 "nbformat": 4,
 "nbformat_minor": 5
}
